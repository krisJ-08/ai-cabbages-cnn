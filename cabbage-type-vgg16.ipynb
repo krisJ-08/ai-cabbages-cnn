{
 "cells": [
  {
   "cell_type": "code",
   "execution_count": 1,
   "id": "600224d8",
   "metadata": {
    "_cell_guid": "b1076dfc-b9ad-4769-8c92-a6c4dae69d19",
    "_uuid": "8f2839f25d086af736a60e9eeb907d3b93b6e0e5",
    "execution": {
     "iopub.execute_input": "2022-07-19T08:33:28.373281Z",
     "iopub.status.busy": "2022-07-19T08:33:28.372415Z",
     "iopub.status.idle": "2022-07-19T08:33:35.336331Z",
     "shell.execute_reply": "2022-07-19T08:33:35.335294Z"
    },
    "papermill": {
     "duration": 6.972117,
     "end_time": "2022-07-19T08:33:35.338791",
     "exception": false,
     "start_time": "2022-07-19T08:33:28.366674",
     "status": "completed"
    },
    "tags": []
   },
   "outputs": [],
   "source": [
    "# importing the libraries\n",
    "import numpy as np\n",
    "import pandas as pd\n",
    "import tensorflow as tf\n",
    "import sklearn\n",
    "import matplotlib.pyplot as plt\n",
    "from glob import glob\n",
    "from sklearn.model_selection import train_test_split\n",
    "from tensorflow.keras.preprocessing import image_dataset_from_directory\n",
    "from sklearn.model_selection import learning_curve,KFold,cross_val_score,StratifiedKFold\n",
    "from sklearn.metrics import confusion_matrix"
   ]
  },
  {
   "cell_type": "code",
   "execution_count": 2,
   "id": "69c0db3b",
   "metadata": {
    "execution": {
     "iopub.execute_input": "2022-07-19T08:33:35.346833Z",
     "iopub.status.busy": "2022-07-19T08:33:35.346258Z",
     "iopub.status.idle": "2022-07-19T08:33:35.350785Z",
     "shell.execute_reply": "2022-07-19T08:33:35.349768Z"
    },
    "papermill": {
     "duration": 0.010496,
     "end_time": "2022-07-19T08:33:35.352788",
     "exception": false,
     "start_time": "2022-07-19T08:33:35.342292",
     "status": "completed"
    },
    "tags": []
   },
   "outputs": [],
   "source": [
    "# loading the directories \n",
    "training_dir = '../input/cabbagetypescnn/cabbage'"
   ]
  },
  {
   "cell_type": "code",
   "execution_count": 3,
   "id": "947bdcee",
   "metadata": {
    "execution": {
     "iopub.execute_input": "2022-07-19T08:33:35.359562Z",
     "iopub.status.busy": "2022-07-19T08:33:35.359316Z",
     "iopub.status.idle": "2022-07-19T08:33:35.369954Z",
     "shell.execute_reply": "2022-07-19T08:33:35.369119Z"
    },
    "papermill": {
     "duration": 0.016182,
     "end_time": "2022-07-19T08:33:35.371838",
     "exception": false,
     "start_time": "2022-07-19T08:33:35.355656",
     "status": "completed"
    },
    "tags": []
   },
   "outputs": [
    {
     "name": "stdout",
     "output_type": "stream",
     "text": [
      "Total Classes = 5\n"
     ]
    }
   ],
   "source": [
    "# getting the number of classes i.e. type of fruits\n",
    "folders = glob(training_dir + '/*')\n",
    "num_classes = len(folders)\n",
    "print ('Total Classes = ' + str(num_classes))"
   ]
  },
  {
   "cell_type": "code",
   "execution_count": 4,
   "id": "aabca0a0",
   "metadata": {
    "execution": {
     "iopub.execute_input": "2022-07-19T08:33:35.379154Z",
     "iopub.status.busy": "2022-07-19T08:33:35.378544Z",
     "iopub.status.idle": "2022-07-19T08:33:39.379179Z",
     "shell.execute_reply": "2022-07-19T08:33:39.378205Z"
    },
    "papermill": {
     "duration": 4.006987,
     "end_time": "2022-07-19T08:33:39.381821",
     "exception": false,
     "start_time": "2022-07-19T08:33:35.374834",
     "status": "completed"
    },
    "tags": []
   },
   "outputs": [
    {
     "name": "stderr",
     "output_type": "stream",
     "text": [
      "2022-07-19 08:33:35.485938: I tensorflow/stream_executor/cuda/cuda_gpu_executor.cc:937] successful NUMA node read from SysFS had negative value (-1), but there must be at least one NUMA node, so returning NUMA node zero\n",
      "2022-07-19 08:33:35.591784: I tensorflow/stream_executor/cuda/cuda_gpu_executor.cc:937] successful NUMA node read from SysFS had negative value (-1), but there must be at least one NUMA node, so returning NUMA node zero\n",
      "2022-07-19 08:33:35.592681: I tensorflow/stream_executor/cuda/cuda_gpu_executor.cc:937] successful NUMA node read from SysFS had negative value (-1), but there must be at least one NUMA node, so returning NUMA node zero\n",
      "2022-07-19 08:33:35.594501: I tensorflow/core/platform/cpu_feature_guard.cc:142] This TensorFlow binary is optimized with oneAPI Deep Neural Network Library (oneDNN) to use the following CPU instructions in performance-critical operations:  AVX2 AVX512F FMA\n",
      "To enable them in other operations, rebuild TensorFlow with the appropriate compiler flags.\n",
      "2022-07-19 08:33:35.594892: I tensorflow/stream_executor/cuda/cuda_gpu_executor.cc:937] successful NUMA node read from SysFS had negative value (-1), but there must be at least one NUMA node, so returning NUMA node zero\n",
      "2022-07-19 08:33:35.595817: I tensorflow/stream_executor/cuda/cuda_gpu_executor.cc:937] successful NUMA node read from SysFS had negative value (-1), but there must be at least one NUMA node, so returning NUMA node zero\n",
      "2022-07-19 08:33:35.596718: I tensorflow/stream_executor/cuda/cuda_gpu_executor.cc:937] successful NUMA node read from SysFS had negative value (-1), but there must be at least one NUMA node, so returning NUMA node zero\n",
      "2022-07-19 08:33:38.055839: I tensorflow/stream_executor/cuda/cuda_gpu_executor.cc:937] successful NUMA node read from SysFS had negative value (-1), but there must be at least one NUMA node, so returning NUMA node zero\n",
      "2022-07-19 08:33:38.056925: I tensorflow/stream_executor/cuda/cuda_gpu_executor.cc:937] successful NUMA node read from SysFS had negative value (-1), but there must be at least one NUMA node, so returning NUMA node zero\n",
      "2022-07-19 08:33:38.057716: I tensorflow/stream_executor/cuda/cuda_gpu_executor.cc:937] successful NUMA node read from SysFS had negative value (-1), but there must be at least one NUMA node, so returning NUMA node zero\n",
      "2022-07-19 08:33:38.058384: I tensorflow/core/common_runtime/gpu/gpu_device.cc:1510] Created device /job:localhost/replica:0/task:0/device:GPU:0 with 15403 MB memory:  -> device: 0, name: Tesla P100-PCIE-16GB, pci bus id: 0000:00:04.0, compute capability: 6.0\n"
     ]
    },
    {
     "name": "stdout",
     "output_type": "stream",
     "text": [
      "Downloading data from https://storage.googleapis.com/tensorflow/keras-applications/vgg16/vgg16_weights_tf_dim_ordering_tf_kernels_notop.h5\n",
      "58892288/58889256 [==============================] - 0s 0us/step\n",
      "58900480/58889256 [==============================] - 0s 0us/step\n"
     ]
    }
   ],
   "source": [
    "# importing the libraries\n",
    "from keras.models import Model\n",
    "from keras.layers import Flatten, Dense\n",
    "from keras.applications.vgg16 import VGG16\n",
    "#from keras.preprocessing import image\n",
    "\n",
    "IMAGE_SIZE = [150, 150]  # we will keep the image size as (64,64). You can increase the size for better results. \n",
    "\n",
    "# loading the weights of VGG16 without the top layer. These weights are trained on Imagenet dataset.\n",
    "vgg = VGG16(input_shape = IMAGE_SIZE + [3], weights = 'imagenet', include_top = False)  # input_shape = (64,64,3) as required by VGG\n",
    "\n",
    "# this will exclude the initial layers from training phase as there are already been trained.\n",
    "for layer in vgg.layers:\n",
    "    layer.trainable = False\n",
    "\n",
    "x = Flatten()(vgg.output)\n",
    "#x = Dense(128, activation = 'relu')(x)   # we can add a new fully connected layer but it will increase the execution time.\n",
    "x = Dense(num_classes, activation = 'softmax')(x)  # adding the output layer with softmax function as this is a multi label classification problem.\n",
    "\n",
    "model = Model(inputs = vgg.input, outputs = x)\n",
    "\n",
    "model.compile(loss='categorical_crossentropy', optimizer='adam', metrics=['accuracy'])\n",
    "\n"
   ]
  },
  {
   "cell_type": "code",
   "execution_count": 5,
   "id": "72ac9316",
   "metadata": {
    "execution": {
     "iopub.execute_input": "2022-07-19T08:33:39.391313Z",
     "iopub.status.busy": "2022-07-19T08:33:39.391032Z",
     "iopub.status.idle": "2022-07-19T08:33:39.398391Z",
     "shell.execute_reply": "2022-07-19T08:33:39.397518Z"
    },
    "papermill": {
     "duration": 0.015433,
     "end_time": "2022-07-19T08:33:39.401314",
     "exception": false,
     "start_time": "2022-07-19T08:33:39.385881",
     "status": "completed"
    },
    "tags": []
   },
   "outputs": [
    {
     "name": "stdout",
     "output_type": "stream",
     "text": [
      "Model: \"model\"\n",
      "_________________________________________________________________\n",
      "Layer (type)                 Output Shape              Param #   \n",
      "=================================================================\n",
      "input_1 (InputLayer)         [(None, 150, 150, 3)]     0         \n",
      "_________________________________________________________________\n",
      "block1_conv1 (Conv2D)        (None, 150, 150, 64)      1792      \n",
      "_________________________________________________________________\n",
      "block1_conv2 (Conv2D)        (None, 150, 150, 64)      36928     \n",
      "_________________________________________________________________\n",
      "block1_pool (MaxPooling2D)   (None, 75, 75, 64)        0         \n",
      "_________________________________________________________________\n",
      "block2_conv1 (Conv2D)        (None, 75, 75, 128)       73856     \n",
      "_________________________________________________________________\n",
      "block2_conv2 (Conv2D)        (None, 75, 75, 128)       147584    \n",
      "_________________________________________________________________\n",
      "block2_pool (MaxPooling2D)   (None, 37, 37, 128)       0         \n",
      "_________________________________________________________________\n",
      "block3_conv1 (Conv2D)        (None, 37, 37, 256)       295168    \n",
      "_________________________________________________________________\n",
      "block3_conv2 (Conv2D)        (None, 37, 37, 256)       590080    \n",
      "_________________________________________________________________\n",
      "block3_conv3 (Conv2D)        (None, 37, 37, 256)       590080    \n",
      "_________________________________________________________________\n",
      "block3_pool (MaxPooling2D)   (None, 18, 18, 256)       0         \n",
      "_________________________________________________________________\n",
      "block4_conv1 (Conv2D)        (None, 18, 18, 512)       1180160   \n",
      "_________________________________________________________________\n",
      "block4_conv2 (Conv2D)        (None, 18, 18, 512)       2359808   \n",
      "_________________________________________________________________\n",
      "block4_conv3 (Conv2D)        (None, 18, 18, 512)       2359808   \n",
      "_________________________________________________________________\n",
      "block4_pool (MaxPooling2D)   (None, 9, 9, 512)         0         \n",
      "_________________________________________________________________\n",
      "block5_conv1 (Conv2D)        (None, 9, 9, 512)         2359808   \n",
      "_________________________________________________________________\n",
      "block5_conv2 (Conv2D)        (None, 9, 9, 512)         2359808   \n",
      "_________________________________________________________________\n",
      "block5_conv3 (Conv2D)        (None, 9, 9, 512)         2359808   \n",
      "_________________________________________________________________\n",
      "block5_pool (MaxPooling2D)   (None, 4, 4, 512)         0         \n",
      "_________________________________________________________________\n",
      "flatten (Flatten)            (None, 8192)              0         \n",
      "_________________________________________________________________\n",
      "dense (Dense)                (None, 5)                 40965     \n",
      "=================================================================\n",
      "Total params: 14,755,653\n",
      "Trainable params: 40,965\n",
      "Non-trainable params: 14,714,688\n",
      "_________________________________________________________________\n"
     ]
    }
   ],
   "source": [
    "model.summary()"
   ]
  },
  {
   "cell_type": "code",
   "execution_count": 6,
   "id": "66944848",
   "metadata": {
    "execution": {
     "iopub.execute_input": "2022-07-19T08:33:39.412129Z",
     "iopub.status.busy": "2022-07-19T08:33:39.411355Z",
     "iopub.status.idle": "2022-07-19T08:33:39.622752Z",
     "shell.execute_reply": "2022-07-19T08:33:39.621789Z"
    },
    "papermill": {
     "duration": 0.21908,
     "end_time": "2022-07-19T08:33:39.625097",
     "exception": false,
     "start_time": "2022-07-19T08:33:39.406017",
     "status": "completed"
    },
    "tags": []
   },
   "outputs": [
    {
     "name": "stdout",
     "output_type": "stream",
     "text": [
      "Found 80 images belonging to 5 classes.\n",
      "Found 20 images belonging to 5 classes.\n"
     ]
    }
   ],
   "source": [
    "from keras.preprocessing.image import ImageDataGenerator\n",
    "train_datagen = ImageDataGenerator(rescale=1./255,\n",
    "    shear_range=0.2,\n",
    "    zoom_range=0.2,\n",
    "    horizontal_flip=True,\n",
    "    validation_split=0.2) # set validation split\n",
    "\n",
    "train_generator = train_datagen.flow_from_directory(\n",
    "    training_dir,\n",
    "    target_size=IMAGE_SIZE,\n",
    "    batch_size=16,\n",
    "    class_mode='categorical',\n",
    "    subset='training') # set as training data\n",
    "\n",
    "validation_generator = train_datagen.flow_from_directory(\n",
    "    training_dir, # same directory as training data\n",
    "    target_size=IMAGE_SIZE,\n",
    "    batch_size=16,\n",
    "    class_mode='categorical',\n",
    "    subset='validation') # set as validation data"
   ]
  },
  {
   "cell_type": "code",
   "execution_count": 7,
   "id": "1be56245",
   "metadata": {
    "execution": {
     "iopub.execute_input": "2022-07-19T08:33:39.635279Z",
     "iopub.status.busy": "2022-07-19T08:33:39.634374Z",
     "iopub.status.idle": "2022-07-19T08:34:03.461156Z",
     "shell.execute_reply": "2022-07-19T08:34:03.460227Z"
    },
    "papermill": {
     "duration": 23.834228,
     "end_time": "2022-07-19T08:34:03.463539",
     "exception": false,
     "start_time": "2022-07-19T08:33:39.629311",
     "status": "completed"
    },
    "tags": []
   },
   "outputs": [
    {
     "name": "stderr",
     "output_type": "stream",
     "text": [
      "/opt/conda/lib/python3.7/site-packages/keras/engine/training.py:1972: UserWarning: `Model.fit_generator` is deprecated and will be removed in a future version. Please use `Model.fit`, which supports generators.\n",
      "  warnings.warn('`Model.fit_generator` is deprecated and '\n",
      "2022-07-19 08:33:40.081519: I tensorflow/compiler/mlir/mlir_graph_optimization_pass.cc:185] None of the MLIR Optimization Passes are enabled (registered 2)\n"
     ]
    },
    {
     "name": "stdout",
     "output_type": "stream",
     "text": [
      "Epoch 1/8\n"
     ]
    },
    {
     "name": "stderr",
     "output_type": "stream",
     "text": [
      "2022-07-19 08:33:41.939781: I tensorflow/stream_executor/cuda/cuda_dnn.cc:369] Loaded cuDNN version 8005\n"
     ]
    },
    {
     "name": "stdout",
     "output_type": "stream",
     "text": [
      "5/5 [==============================] - 10s 491ms/step - loss: 1.7434 - accuracy: 0.2250 - val_loss: 1.3500 - val_accuracy: 0.3125\n",
      "Epoch 2/8\n",
      "5/5 [==============================] - 2s 362ms/step - loss: 1.1505 - accuracy: 0.5000 - val_loss: 1.1312 - val_accuracy: 0.6250\n",
      "Epoch 3/8\n",
      "5/5 [==============================] - 2s 313ms/step - loss: 0.7841 - accuracy: 0.7000 - val_loss: 0.7600 - val_accuracy: 0.6875\n",
      "Epoch 4/8\n",
      "5/5 [==============================] - 2s 346ms/step - loss: 0.4926 - accuracy: 0.9000 - val_loss: 0.6602 - val_accuracy: 0.8125\n",
      "Epoch 5/8\n",
      "5/5 [==============================] - 2s 468ms/step - loss: 0.3338 - accuracy: 0.9500 - val_loss: 0.6549 - val_accuracy: 0.6875\n",
      "Epoch 6/8\n",
      "5/5 [==============================] - 2s 346ms/step - loss: 0.2611 - accuracy: 0.9625 - val_loss: 0.5168 - val_accuracy: 0.8125\n",
      "Epoch 7/8\n",
      "5/5 [==============================] - 2s 343ms/step - loss: 0.2445 - accuracy: 0.9500 - val_loss: 0.4055 - val_accuracy: 0.9375\n",
      "Epoch 8/8\n",
      "5/5 [==============================] - 2s 410ms/step - loss: 0.1977 - accuracy: 0.9750 - val_loss: 0.2640 - val_accuracy: 0.9375\n"
     ]
    }
   ],
   "source": [
    "history = model.fit_generator(\n",
    "    train_generator,\n",
    "    steps_per_epoch = train_generator.samples // 16,\n",
    "    validation_data = validation_generator, \n",
    "    validation_steps = validation_generator.samples // 16,\n",
    "    epochs = 8)"
   ]
  },
  {
   "cell_type": "code",
   "execution_count": 8,
   "id": "bc4ed1dc",
   "metadata": {
    "execution": {
     "iopub.execute_input": "2022-07-19T08:34:03.481012Z",
     "iopub.status.busy": "2022-07-19T08:34:03.480721Z",
     "iopub.status.idle": "2022-07-19T08:34:03.488517Z",
     "shell.execute_reply": "2022-07-19T08:34:03.487625Z"
    },
    "papermill": {
     "duration": 0.018581,
     "end_time": "2022-07-19T08:34:03.490517",
     "exception": false,
     "start_time": "2022-07-19T08:34:03.471936",
     "status": "completed"
    },
    "tags": []
   },
   "outputs": [
    {
     "data": {
      "text/plain": [
       "{'bokchoy': 0, 'green': 1, 'napa': 2, 'red': 3, 'savoy': 4}"
      ]
     },
     "execution_count": 8,
     "metadata": {},
     "output_type": "execute_result"
    }
   ],
   "source": [
    "# The labels are stored in class_indices in dictionary form. \n",
    "# checking the labels\n",
    "train_generator.class_indices"
   ]
  },
  {
   "cell_type": "code",
   "execution_count": 9,
   "id": "2c062091",
   "metadata": {
    "execution": {
     "iopub.execute_input": "2022-07-19T08:34:03.507223Z",
     "iopub.status.busy": "2022-07-19T08:34:03.505756Z",
     "iopub.status.idle": "2022-07-19T08:34:03.511129Z",
     "shell.execute_reply": "2022-07-19T08:34:03.510289Z"
    },
    "papermill": {
     "duration": 0.01512,
     "end_time": "2022-07-19T08:34:03.512840",
     "exception": false,
     "start_time": "2022-07-19T08:34:03.497720",
     "status": "completed"
    },
    "tags": []
   },
   "outputs": [],
   "source": [
    "#training_images = 82\n",
    "#validation_images = 20\n",
    "\n",
    "#history = model.fit_generator(train_generator,\n",
    "  #                 steps_per_epoch = 82,  # this should be equal to total number of images in training set. But to speed up the execution, I am only using 10000 images. Change this for better results. \n",
    "    #               epochs = 8,  # change this for better results\n",
    "   #                validation_data = validation_generator)\n",
    "      #             validation_steps = 20)  # this should be equal to total number of images in validation set."
   ]
  },
  {
   "cell_type": "code",
   "execution_count": 10,
   "id": "b5559d11",
   "metadata": {
    "execution": {
     "iopub.execute_input": "2022-07-19T08:34:03.530077Z",
     "iopub.status.busy": "2022-07-19T08:34:03.528439Z",
     "iopub.status.idle": "2022-07-19T08:34:03.534721Z",
     "shell.execute_reply": "2022-07-19T08:34:03.533858Z"
    },
    "papermill": {
     "duration": 0.017306,
     "end_time": "2022-07-19T08:34:03.537603",
     "exception": false,
     "start_time": "2022-07-19T08:34:03.520297",
     "status": "completed"
    },
    "tags": []
   },
   "outputs": [
    {
     "name": "stdout",
     "output_type": "stream",
     "text": [
      "Training Accuracy = [0.22499999403953552, 0.5, 0.699999988079071, 0.8999999761581421, 0.949999988079071, 0.9624999761581421, 0.949999988079071, 0.9750000238418579]\n",
      "Validation Accuracy = [0.3125, 0.625, 0.6875, 0.8125, 0.6875, 0.8125, 0.9375, 0.9375]\n"
     ]
    }
   ],
   "source": [
    "print ('Training Accuracy = ' + str(history.history['accuracy']))\n",
    "print ('Validation Accuracy = ' + str(history.history['val_accuracy']))"
   ]
  }
 ],
 "metadata": {
  "kernelspec": {
   "display_name": "Python 3",
   "language": "python",
   "name": "python3"
  },
  "language_info": {
   "codemirror_mode": {
    "name": "ipython",
    "version": 3
   },
   "file_extension": ".py",
   "mimetype": "text/x-python",
   "name": "python",
   "nbconvert_exporter": "python",
   "pygments_lexer": "ipython3",
   "version": "3.7.12"
  },
  "papermill": {
   "default_parameters": {},
   "duration": 47.418667,
   "end_time": "2022-07-19T08:34:07.194960",
   "environment_variables": {},
   "exception": null,
   "input_path": "__notebook__.ipynb",
   "output_path": "__notebook__.ipynb",
   "parameters": {},
   "start_time": "2022-07-19T08:33:19.776293",
   "version": "2.3.4"
  }
 },
 "nbformat": 4,
 "nbformat_minor": 5
}
