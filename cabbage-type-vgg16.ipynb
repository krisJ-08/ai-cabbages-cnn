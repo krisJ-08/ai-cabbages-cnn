{
 "cells": [
  {
   "cell_type": "code",
   "execution_count": 1,
   "id": "562d5fa0",
   "metadata": {
    "_cell_guid": "b1076dfc-b9ad-4769-8c92-a6c4dae69d19",
    "_uuid": "8f2839f25d086af736a60e9eeb907d3b93b6e0e5",
    "execution": {
     "iopub.execute_input": "2022-07-19T06:47:56.429061Z",
     "iopub.status.busy": "2022-07-19T06:47:56.427809Z",
     "iopub.status.idle": "2022-07-19T06:48:05.178974Z",
     "shell.execute_reply": "2022-07-19T06:48:05.177699Z"
    },
    "papermill": {
     "duration": 8.76035,
     "end_time": "2022-07-19T06:48:05.182122",
     "exception": false,
     "start_time": "2022-07-19T06:47:56.421772",
     "status": "completed"
    },
    "tags": []
   },
   "outputs": [],
   "source": [
    "# importing the libraries\n",
    "import numpy as np\n",
    "import pandas as pd\n",
    "import tensorflow as tf\n",
    "import sklearn\n",
    "import matplotlib.pyplot as plt\n",
    "from glob import glob\n",
    "from sklearn.model_selection import train_test_split\n",
    "from tensorflow.keras.preprocessing import image_dataset_from_directory\n",
    "from sklearn.model_selection import learning_curve,KFold,cross_val_score,StratifiedKFold\n",
    "from sklearn.metrics import confusion_matrix"
   ]
  },
  {
   "cell_type": "code",
   "execution_count": 2,
   "id": "b43dd36c",
   "metadata": {
    "execution": {
     "iopub.execute_input": "2022-07-19T06:48:05.191885Z",
     "iopub.status.busy": "2022-07-19T06:48:05.190350Z",
     "iopub.status.idle": "2022-07-19T06:48:05.197542Z",
     "shell.execute_reply": "2022-07-19T06:48:05.196476Z"
    },
    "papermill": {
     "duration": 0.014213,
     "end_time": "2022-07-19T06:48:05.200153",
     "exception": false,
     "start_time": "2022-07-19T06:48:05.185940",
     "status": "completed"
    },
    "tags": []
   },
   "outputs": [],
   "source": [
    "# loading the directories \n",
    "training_dir = '../input/cabbagetypescnn/cabbage'"
   ]
  },
  {
   "cell_type": "code",
   "execution_count": 3,
   "id": "c9ad5558",
   "metadata": {
    "execution": {
     "iopub.execute_input": "2022-07-19T06:48:05.209019Z",
     "iopub.status.busy": "2022-07-19T06:48:05.208002Z",
     "iopub.status.idle": "2022-07-19T06:48:05.223920Z",
     "shell.execute_reply": "2022-07-19T06:48:05.222000Z"
    },
    "papermill": {
     "duration": 0.022825,
     "end_time": "2022-07-19T06:48:05.226395",
     "exception": false,
     "start_time": "2022-07-19T06:48:05.203570",
     "status": "completed"
    },
    "tags": []
   },
   "outputs": [
    {
     "name": "stdout",
     "output_type": "stream",
     "text": [
      "Total Classes = 4\n"
     ]
    }
   ],
   "source": [
    "# getting the number of classes i.e. type of fruits\n",
    "folders = glob(training_dir + '/*')\n",
    "num_classes = len(folders)\n",
    "print ('Total Classes = ' + str(num_classes))"
   ]
  },
  {
   "cell_type": "code",
   "execution_count": 4,
   "id": "38c105d4",
   "metadata": {
    "execution": {
     "iopub.execute_input": "2022-07-19T06:48:05.235164Z",
     "iopub.status.busy": "2022-07-19T06:48:05.234616Z",
     "iopub.status.idle": "2022-07-19T06:48:12.896915Z",
     "shell.execute_reply": "2022-07-19T06:48:12.895728Z"
    },
    "papermill": {
     "duration": 7.670081,
     "end_time": "2022-07-19T06:48:12.899948",
     "exception": false,
     "start_time": "2022-07-19T06:48:05.229867",
     "status": "completed"
    },
    "tags": []
   },
   "outputs": [
    {
     "name": "stderr",
     "output_type": "stream",
     "text": [
      "2022-07-19 06:48:05.382541: I tensorflow/stream_executor/cuda/cuda_gpu_executor.cc:937] successful NUMA node read from SysFS had negative value (-1), but there must be at least one NUMA node, so returning NUMA node zero\n",
      "2022-07-19 06:48:05.550584: I tensorflow/stream_executor/cuda/cuda_gpu_executor.cc:937] successful NUMA node read from SysFS had negative value (-1), but there must be at least one NUMA node, so returning NUMA node zero\n",
      "2022-07-19 06:48:05.551826: I tensorflow/stream_executor/cuda/cuda_gpu_executor.cc:937] successful NUMA node read from SysFS had negative value (-1), but there must be at least one NUMA node, so returning NUMA node zero\n",
      "2022-07-19 06:48:05.554149: I tensorflow/core/platform/cpu_feature_guard.cc:142] This TensorFlow binary is optimized with oneAPI Deep Neural Network Library (oneDNN) to use the following CPU instructions in performance-critical operations:  AVX2 FMA\n",
      "To enable them in other operations, rebuild TensorFlow with the appropriate compiler flags.\n",
      "2022-07-19 06:48:05.554622: I tensorflow/stream_executor/cuda/cuda_gpu_executor.cc:937] successful NUMA node read from SysFS had negative value (-1), but there must be at least one NUMA node, so returning NUMA node zero\n",
      "2022-07-19 06:48:05.555911: I tensorflow/stream_executor/cuda/cuda_gpu_executor.cc:937] successful NUMA node read from SysFS had negative value (-1), but there must be at least one NUMA node, so returning NUMA node zero\n",
      "2022-07-19 06:48:05.557128: I tensorflow/stream_executor/cuda/cuda_gpu_executor.cc:937] successful NUMA node read from SysFS had negative value (-1), but there must be at least one NUMA node, so returning NUMA node zero\n",
      "2022-07-19 06:48:09.457333: I tensorflow/stream_executor/cuda/cuda_gpu_executor.cc:937] successful NUMA node read from SysFS had negative value (-1), but there must be at least one NUMA node, so returning NUMA node zero\n",
      "2022-07-19 06:48:09.458590: I tensorflow/stream_executor/cuda/cuda_gpu_executor.cc:937] successful NUMA node read from SysFS had negative value (-1), but there must be at least one NUMA node, so returning NUMA node zero\n",
      "2022-07-19 06:48:09.459569: I tensorflow/stream_executor/cuda/cuda_gpu_executor.cc:937] successful NUMA node read from SysFS had negative value (-1), but there must be at least one NUMA node, so returning NUMA node zero\n",
      "2022-07-19 06:48:09.460550: I tensorflow/core/common_runtime/gpu/gpu_device.cc:1510] Created device /job:localhost/replica:0/task:0/device:GPU:0 with 15403 MB memory:  -> device: 0, name: Tesla P100-PCIE-16GB, pci bus id: 0000:00:04.0, compute capability: 6.0\n"
     ]
    },
    {
     "name": "stdout",
     "output_type": "stream",
     "text": [
      "Downloading data from https://storage.googleapis.com/tensorflow/keras-applications/vgg16/vgg16_weights_tf_dim_ordering_tf_kernels_notop.h5\n",
      "58892288/58889256 [==============================] - 2s 0us/step\n",
      "58900480/58889256 [==============================] - 2s 0us/step\n"
     ]
    }
   ],
   "source": [
    "# importing the libraries\n",
    "from keras.models import Model\n",
    "from keras.layers import Flatten, Dense\n",
    "from keras.applications.vgg16 import VGG16\n",
    "#from keras.preprocessing import image\n",
    "\n",
    "IMAGE_SIZE = [150, 150]  # we will keep the image size as (64,64). You can increase the size for better results. \n",
    "\n",
    "# loading the weights of VGG16 without the top layer. These weights are trained on Imagenet dataset.\n",
    "vgg = VGG16(input_shape = IMAGE_SIZE + [3], weights = 'imagenet', include_top = False)  # input_shape = (64,64,3) as required by VGG\n",
    "\n",
    "# this will exclude the initial layers from training phase as there are already been trained.\n",
    "for layer in vgg.layers:\n",
    "    layer.trainable = False\n",
    "\n",
    "x = Flatten()(vgg.output)\n",
    "#x = Dense(128, activation = 'relu')(x)   # we can add a new fully connected layer but it will increase the execution time.\n",
    "x = Dense(num_classes, activation = 'softmax')(x)  # adding the output layer with softmax function as this is a multi label classification problem.\n",
    "\n",
    "model = Model(inputs = vgg.input, outputs = x)\n",
    "\n",
    "model.compile(loss='categorical_crossentropy', optimizer='adam', metrics=['accuracy'])\n",
    "\n"
   ]
  },
  {
   "cell_type": "code",
   "execution_count": 5,
   "id": "dad71843",
   "metadata": {
    "execution": {
     "iopub.execute_input": "2022-07-19T06:48:12.912381Z",
     "iopub.status.busy": "2022-07-19T06:48:12.911061Z",
     "iopub.status.idle": "2022-07-19T06:48:12.920915Z",
     "shell.execute_reply": "2022-07-19T06:48:12.919596Z"
    },
    "papermill": {
     "duration": 0.020697,
     "end_time": "2022-07-19T06:48:12.925822",
     "exception": false,
     "start_time": "2022-07-19T06:48:12.905125",
     "status": "completed"
    },
    "tags": []
   },
   "outputs": [
    {
     "name": "stdout",
     "output_type": "stream",
     "text": [
      "Model: \"model\"\n",
      "_________________________________________________________________\n",
      "Layer (type)                 Output Shape              Param #   \n",
      "=================================================================\n",
      "input_1 (InputLayer)         [(None, 150, 150, 3)]     0         \n",
      "_________________________________________________________________\n",
      "block1_conv1 (Conv2D)        (None, 150, 150, 64)      1792      \n",
      "_________________________________________________________________\n",
      "block1_conv2 (Conv2D)        (None, 150, 150, 64)      36928     \n",
      "_________________________________________________________________\n",
      "block1_pool (MaxPooling2D)   (None, 75, 75, 64)        0         \n",
      "_________________________________________________________________\n",
      "block2_conv1 (Conv2D)        (None, 75, 75, 128)       73856     \n",
      "_________________________________________________________________\n",
      "block2_conv2 (Conv2D)        (None, 75, 75, 128)       147584    \n",
      "_________________________________________________________________\n",
      "block2_pool (MaxPooling2D)   (None, 37, 37, 128)       0         \n",
      "_________________________________________________________________\n",
      "block3_conv1 (Conv2D)        (None, 37, 37, 256)       295168    \n",
      "_________________________________________________________________\n",
      "block3_conv2 (Conv2D)        (None, 37, 37, 256)       590080    \n",
      "_________________________________________________________________\n",
      "block3_conv3 (Conv2D)        (None, 37, 37, 256)       590080    \n",
      "_________________________________________________________________\n",
      "block3_pool (MaxPooling2D)   (None, 18, 18, 256)       0         \n",
      "_________________________________________________________________\n",
      "block4_conv1 (Conv2D)        (None, 18, 18, 512)       1180160   \n",
      "_________________________________________________________________\n",
      "block4_conv2 (Conv2D)        (None, 18, 18, 512)       2359808   \n",
      "_________________________________________________________________\n",
      "block4_conv3 (Conv2D)        (None, 18, 18, 512)       2359808   \n",
      "_________________________________________________________________\n",
      "block4_pool (MaxPooling2D)   (None, 9, 9, 512)         0         \n",
      "_________________________________________________________________\n",
      "block5_conv1 (Conv2D)        (None, 9, 9, 512)         2359808   \n",
      "_________________________________________________________________\n",
      "block5_conv2 (Conv2D)        (None, 9, 9, 512)         2359808   \n",
      "_________________________________________________________________\n",
      "block5_conv3 (Conv2D)        (None, 9, 9, 512)         2359808   \n",
      "_________________________________________________________________\n",
      "block5_pool (MaxPooling2D)   (None, 4, 4, 512)         0         \n",
      "_________________________________________________________________\n",
      "flatten (Flatten)            (None, 8192)              0         \n",
      "_________________________________________________________________\n",
      "dense (Dense)                (None, 4)                 32772     \n",
      "=================================================================\n",
      "Total params: 14,747,460\n",
      "Trainable params: 32,772\n",
      "Non-trainable params: 14,714,688\n",
      "_________________________________________________________________\n"
     ]
    }
   ],
   "source": [
    "model.summary()"
   ]
  },
  {
   "cell_type": "code",
   "execution_count": 6,
   "id": "c4df3206",
   "metadata": {
    "execution": {
     "iopub.execute_input": "2022-07-19T06:48:12.938260Z",
     "iopub.status.busy": "2022-07-19T06:48:12.937927Z",
     "iopub.status.idle": "2022-07-19T06:48:13.155307Z",
     "shell.execute_reply": "2022-07-19T06:48:13.154102Z"
    },
    "papermill": {
     "duration": 0.22619,
     "end_time": "2022-07-19T06:48:13.158051",
     "exception": false,
     "start_time": "2022-07-19T06:48:12.931861",
     "status": "completed"
    },
    "tags": []
   },
   "outputs": [
    {
     "name": "stdout",
     "output_type": "stream",
     "text": [
      "Found 82 images belonging to 4 classes.\n",
      "Found 20 images belonging to 4 classes.\n"
     ]
    }
   ],
   "source": [
    "from keras.preprocessing.image import ImageDataGenerator\n",
    "train_datagen = ImageDataGenerator(rescale=1./255,\n",
    "    shear_range=0.2,\n",
    "    zoom_range=0.2,\n",
    "    horizontal_flip=True,\n",
    "    validation_split=0.2) # set validation split\n",
    "\n",
    "train_generator = train_datagen.flow_from_directory(\n",
    "    training_dir,\n",
    "    target_size=IMAGE_SIZE,\n",
    "    batch_size=16,\n",
    "    class_mode='categorical',\n",
    "    subset='training') # set as training data\n",
    "\n",
    "validation_generator = train_datagen.flow_from_directory(\n",
    "    training_dir, # same directory as training data\n",
    "    target_size=IMAGE_SIZE,\n",
    "    batch_size=16,\n",
    "    class_mode='categorical',\n",
    "    subset='validation') # set as validation data"
   ]
  },
  {
   "cell_type": "code",
   "execution_count": 7,
   "id": "c54fc86d",
   "metadata": {
    "execution": {
     "iopub.execute_input": "2022-07-19T06:48:13.171837Z",
     "iopub.status.busy": "2022-07-19T06:48:13.169947Z",
     "iopub.status.idle": "2022-07-19T06:48:55.510025Z",
     "shell.execute_reply": "2022-07-19T06:48:55.508498Z"
    },
    "papermill": {
     "duration": 42.349233,
     "end_time": "2022-07-19T06:48:55.512915",
     "exception": false,
     "start_time": "2022-07-19T06:48:13.163682",
     "status": "completed"
    },
    "tags": []
   },
   "outputs": [
    {
     "name": "stderr",
     "output_type": "stream",
     "text": [
      "/opt/conda/lib/python3.7/site-packages/keras/engine/training.py:1972: UserWarning: `Model.fit_generator` is deprecated and will be removed in a future version. Please use `Model.fit`, which supports generators.\n",
      "  warnings.warn('`Model.fit_generator` is deprecated and '\n",
      "2022-07-19 06:48:13.778379: I tensorflow/compiler/mlir/mlir_graph_optimization_pass.cc:185] None of the MLIR Optimization Passes are enabled (registered 2)\n"
     ]
    },
    {
     "name": "stdout",
     "output_type": "stream",
     "text": [
      "Epoch 1/8\n"
     ]
    },
    {
     "name": "stderr",
     "output_type": "stream",
     "text": [
      "2022-07-19 06:48:15.998856: I tensorflow/stream_executor/cuda/cuda_dnn.cc:369] Loaded cuDNN version 8005\n"
     ]
    },
    {
     "name": "stdout",
     "output_type": "stream",
     "text": [
      "5/5 [==============================] - ETA: 0s - loss: 1.5481 - accuracy: 0.3182"
     ]
    },
    {
     "name": "stderr",
     "output_type": "stream",
     "text": [
      "/opt/conda/lib/python3.7/site-packages/PIL/Image.py:993: UserWarning: Palette images with Transparency expressed in bytes should be converted to RGBA images\n",
      "  \"Palette images with Transparency expressed in bytes should be \"\n"
     ]
    },
    {
     "name": "stdout",
     "output_type": "stream",
     "text": [
      "5/5 [==============================] - 13s 919ms/step - loss: 1.5481 - accuracy: 0.3182 - val_loss: 1.0286 - val_accuracy: 0.6875\n",
      "Epoch 2/8\n",
      "5/5 [==============================] - 2s 500ms/step - loss: 0.9642 - accuracy: 0.6970 - val_loss: 0.7704 - val_accuracy: 0.7500\n",
      "Epoch 3/8\n",
      "5/5 [==============================] - 3s 569ms/step - loss: 0.5967 - accuracy: 0.8636 - val_loss: 0.4970 - val_accuracy: 0.9375\n",
      "Epoch 4/8\n",
      "5/5 [==============================] - 2s 589ms/step - loss: 0.3395 - accuracy: 0.9697 - val_loss: 0.3852 - val_accuracy: 0.8750\n",
      "Epoch 5/8\n",
      "5/5 [==============================] - 2s 425ms/step - loss: 0.2761 - accuracy: 0.9394 - val_loss: 0.2288 - val_accuracy: 0.9375\n",
      "Epoch 6/8\n",
      "5/5 [==============================] - 2s 446ms/step - loss: 0.1781 - accuracy: 0.9697 - val_loss: 0.3495 - val_accuracy: 0.8750\n",
      "Epoch 7/8\n",
      "5/5 [==============================] - 3s 606ms/step - loss: 0.1577 - accuracy: 0.9848 - val_loss: 0.2260 - val_accuracy: 0.9375\n",
      "Epoch 8/8\n",
      "5/5 [==============================] - 3s 680ms/step - loss: 0.1220 - accuracy: 1.0000 - val_loss: 0.1926 - val_accuracy: 0.9375\n"
     ]
    }
   ],
   "source": [
    "history = model.fit_generator(\n",
    "    train_generator,\n",
    "    steps_per_epoch = train_generator.samples // 16,\n",
    "    validation_data = validation_generator, \n",
    "    validation_steps = validation_generator.samples // 16,\n",
    "    epochs = 8)"
   ]
  },
  {
   "cell_type": "code",
   "execution_count": 8,
   "id": "a49774ff",
   "metadata": {
    "execution": {
     "iopub.execute_input": "2022-07-19T06:48:55.532150Z",
     "iopub.status.busy": "2022-07-19T06:48:55.531804Z",
     "iopub.status.idle": "2022-07-19T06:48:55.540981Z",
     "shell.execute_reply": "2022-07-19T06:48:55.539774Z"
    },
    "papermill": {
     "duration": 0.021522,
     "end_time": "2022-07-19T06:48:55.543378",
     "exception": false,
     "start_time": "2022-07-19T06:48:55.521856",
     "status": "completed"
    },
    "tags": []
   },
   "outputs": [
    {
     "data": {
      "text/plain": [
       "{'bokchoy': 0, 'napa': 1, 'red': 2, 'savoy': 3}"
      ]
     },
     "execution_count": 8,
     "metadata": {},
     "output_type": "execute_result"
    }
   ],
   "source": [
    "# The labels are stored in class_indices in dictionary form. \n",
    "# checking the labels\n",
    "train_generator.class_indices"
   ]
  },
  {
   "cell_type": "code",
   "execution_count": 9,
   "id": "4490047e",
   "metadata": {
    "execution": {
     "iopub.execute_input": "2022-07-19T06:48:55.563071Z",
     "iopub.status.busy": "2022-07-19T06:48:55.562773Z",
     "iopub.status.idle": "2022-07-19T06:48:55.567722Z",
     "shell.execute_reply": "2022-07-19T06:48:55.566439Z"
    },
    "papermill": {
     "duration": 0.01768,
     "end_time": "2022-07-19T06:48:55.570217",
     "exception": false,
     "start_time": "2022-07-19T06:48:55.552537",
     "status": "completed"
    },
    "tags": []
   },
   "outputs": [],
   "source": [
    "#training_images = 82\n",
    "#validation_images = 20\n",
    "\n",
    "#history = model.fit_generator(train_generator,\n",
    "  #                 steps_per_epoch = 82,  # this should be equal to total number of images in training set. But to speed up the execution, I am only using 10000 images. Change this for better results. \n",
    "    #               epochs = 8,  # change this for better results\n",
    "   #                validation_data = validation_generator)\n",
    "      #             validation_steps = 20)  # this should be equal to total number of images in validation set."
   ]
  },
  {
   "cell_type": "code",
   "execution_count": 10,
   "id": "c485169d",
   "metadata": {
    "execution": {
     "iopub.execute_input": "2022-07-19T06:48:55.589565Z",
     "iopub.status.busy": "2022-07-19T06:48:55.589212Z",
     "iopub.status.idle": "2022-07-19T06:48:55.595927Z",
     "shell.execute_reply": "2022-07-19T06:48:55.594643Z"
    },
    "papermill": {
     "duration": 0.020456,
     "end_time": "2022-07-19T06:48:55.599741",
     "exception": false,
     "start_time": "2022-07-19T06:48:55.579285",
     "status": "completed"
    },
    "tags": []
   },
   "outputs": [
    {
     "name": "stdout",
     "output_type": "stream",
     "text": [
      "Training Accuracy = [0.3181818127632141, 0.6969696879386902, 0.8636363744735718, 0.9696969985961914, 0.939393937587738, 0.9696969985961914, 0.9848484992980957, 1.0]\n",
      "Validation Accuracy = [0.6875, 0.75, 0.9375, 0.875, 0.9375, 0.875, 0.9375, 0.9375]\n"
     ]
    }
   ],
   "source": [
    "print ('Training Accuracy = ' + str(history.history['accuracy']))\n",
    "print ('Validation Accuracy = ' + str(history.history['val_accuracy']))"
   ]
  }
 ],
 "metadata": {
  "kernelspec": {
   "display_name": "Python 3",
   "language": "python",
   "name": "python3"
  },
  "language_info": {
   "codemirror_mode": {
    "name": "ipython",
    "version": 3
   },
   "file_extension": ".py",
   "mimetype": "text/x-python",
   "name": "python",
   "nbconvert_exporter": "python",
   "pygments_lexer": "ipython3",
   "version": "3.7.12"
  },
  "papermill": {
   "default_parameters": {},
   "duration": 72.799162,
   "end_time": "2022-07-19T06:48:58.843389",
   "environment_variables": {},
   "exception": null,
   "input_path": "__notebook__.ipynb",
   "output_path": "__notebook__.ipynb",
   "parameters": {},
   "start_time": "2022-07-19T06:47:46.044227",
   "version": "2.3.4"
  }
 },
 "nbformat": 4,
 "nbformat_minor": 5
}
